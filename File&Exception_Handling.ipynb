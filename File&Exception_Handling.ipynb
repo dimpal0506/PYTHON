{
  "nbformat": 4,
  "nbformat_minor": 0,
  "metadata": {
    "colab": {
      "provenance": []
    },
    "kernelspec": {
      "name": "python3",
      "display_name": "Python 3"
    },
    "language_info": {
      "name": "python"
    }
  },
  "cells": [
    {
      "cell_type": "markdown",
      "source": [
        "1.Discuss the scenarios where multithreading is preferable to multiprocessing and scenarios where\n",
        "multiprocessing is a better choice.\n",
        "\n",
        "\n"
      ],
      "metadata": {
        "id": "H86oZUXtSfyy"
      }
    },
    {
      "cell_type": "code",
      "source": [
        "'''Multithreading: Preferred when tasks are I/O-bound (e.g., file reading/writing, web scraping, network requests) because threads share memory space and switching between threads is lightweight.\n",
        "\n",
        "Multiprocessing: Best for CPU-bound tasks (e.g., mathematical computations, machine learning training) as processes run on separate cores, avoiding the Global Interpreter Lock (GIL) in Python'''"
      ],
      "metadata": {
        "id": "aN0aCHtkTPBM"
      },
      "execution_count": null,
      "outputs": []
    },
    {
      "cell_type": "markdown",
      "source": [
        "2.Describe what a process pool is and how it helps in managing multiple processes efficiently.\n",
        "\n",
        "\n"
      ],
      "metadata": {
        "id": "_e8M7rsASf12"
      }
    },
    {
      "cell_type": "code",
      "source": [
        "'''A process pool is a collection of pre-instantiated processes. It manages processes efficiently by reusing them for tasks instead of creating new ones each time, reducing overhead. It also simplifies parallelism by providing high-level abstractions like Pool.map() for parallel execution.'''"
      ],
      "metadata": {
        "id": "hCJRJja5TVO9"
      },
      "execution_count": null,
      "outputs": []
    },
    {
      "cell_type": "markdown",
      "source": [
        "3.Explain what multiprocessing is and why it is used in Python programs.\n",
        "\n",
        "\n"
      ],
      "metadata": {
        "id": "d_1eokNXSf4r"
      }
    },
    {
      "cell_type": "code",
      "source": [
        "'''Multiprocessing involves running multiple processes concurrently, each with its own memory space. It is used in Python to overcome the GIL and fully utilize multi-core CPUs, especially for tasks requiring heavy computation.'''"
      ],
      "metadata": {
        "id": "GuDcgzO1TX5a"
      },
      "execution_count": null,
      "outputs": []
    },
    {
      "cell_type": "markdown",
      "source": [
        "4.Write a Python program using multithreading where one thread adds numbers to a list, and another\n",
        "thread removes numbers from the list. Implement a mechanism to avoid race conditions using\n",
        "threading.Lock.\n",
        "\n",
        "\n"
      ],
      "metadata": {
        "id": "Z43tvGrMSf7b"
      }
    },
    {
      "cell_type": "code",
      "source": [
        "import threading\n",
        "import time\n",
        "\n",
        "# Shared list and lock\n",
        "shared_list = []\n",
        "lock = threading.Lock()\n",
        "\n",
        "def add_to_list():\n",
        "    for i in range(5):\n",
        "        with lock:\n",
        "            shared_list.append(i)\n",
        "            print(f\"Added {i}\")\n",
        "        time.sleep(0.5)\n",
        "\n",
        "def remove_from_list():\n",
        "    for i in range(5):\n",
        "        with lock:\n",
        "            if shared_list:\n",
        "                removed = shared_list.pop(0)\n",
        "                print(f\"Removed {removed}\")\n",
        "        time.sleep(0.5)\n",
        "\n",
        "# Create and start threads\n",
        "thread1 = threading.Thread(target=add_to_list)\n",
        "thread2 = threading.Thread(target=remove_from_list)\n",
        "thread1.start()\n",
        "thread2.start()\n",
        "thread1.join()\n",
        "thread2.join()\n",
        "\n",
        "print(\"Final list:\", shared_list)\n"
      ],
      "metadata": {
        "colab": {
          "base_uri": "https://localhost:8080/"
        },
        "id": "I4PqK6KgTa9k",
        "outputId": "b4094e52-7eb9-4910-ae48-6c8c51588f4e"
      },
      "execution_count": 1,
      "outputs": [
        {
          "output_type": "stream",
          "name": "stdout",
          "text": [
            "Added 0\n",
            "Removed 0\n",
            "Added 1\n",
            "Removed 1\n",
            "Added 2\n",
            "Removed 2\n",
            "Added 3\n",
            "Removed 3\n",
            "Added 4\n",
            "Removed 4\n",
            "Final list: []\n"
          ]
        }
      ]
    },
    {
      "cell_type": "markdown",
      "source": [
        "5.Describe the methods and tools available in Python for safely sharing data between threads and\n",
        "processes.\n",
        "\n",
        "\n"
      ],
      "metadata": {
        "id": "NKipuYu-Sf-0"
      }
    },
    {
      "cell_type": "code",
      "source": [
        "'''Threads: Use threading.Lock or threading.RLock for synchronization.\n",
        "\n",
        "Processes:\n",
        "\n",
        "Queues: For sharing data safely between processes.\n",
        "\n",
        "Manager objects: Provide shared variables like lists, dictionaries.\n",
        "\n",
        "Value/Array: For shared memory data structures.'''"
      ],
      "metadata": {
        "id": "yd1dCTggTevW"
      },
      "execution_count": null,
      "outputs": []
    },
    {
      "cell_type": "markdown",
      "source": [
        "6.Discuss why it’s crucial to handle exceptions in concurrent programs and the techniques available for\n",
        "doing so.\n",
        "\n",
        "\n"
      ],
      "metadata": {
        "id": "xI_WQ1fpS9wU"
      }
    },
    {
      "cell_type": "code",
      "source": [
        "'''Concurrent programs can fail unexpectedly due to race conditions, deadlocks, or timeouts. Techniques include:\n",
        "\n",
        "Try-except blocks: To catch exceptions within threads/processes.\n",
        "\n",
        "Logging: To record failures for debugging.\n",
        "\n",
        "Thread/Process monitoring: To restart or clean up failed threads/processes.'''"
      ],
      "metadata": {
        "id": "0ZAsZ81tThjz"
      },
      "execution_count": null,
      "outputs": []
    },
    {
      "cell_type": "markdown",
      "source": [
        "7.Create a program that uses a thread pool to calculate the factorial of numbers from 1 to 10 concurrently.\n",
        "Use concurrent.futures.ThreadPoolExecutor to manage the threads.\n",
        "\n",
        "\n"
      ],
      "metadata": {
        "id": "wV66ILG4TB2v"
      }
    },
    {
      "cell_type": "code",
      "source": [
        "from concurrent.futures import ThreadPoolExecutor\n",
        "\n",
        "def factorial(n):\n",
        "    result = 1\n",
        "    for i in range(1, n + 1):\n",
        "        result *= i\n",
        "    return f\"Factorial of {n} is {result}\"\n",
        "\n",
        "# Use ThreadPoolExecutor\n",
        "with ThreadPoolExecutor() as executor:\n",
        "    numbers = range(1, 11)\n",
        "    results = executor.map(factorial, numbers)\n",
        "\n",
        "for r in results:\n",
        "    print(r)\n"
      ],
      "metadata": {
        "colab": {
          "base_uri": "https://localhost:8080/"
        },
        "id": "5XwKbjZWTkE7",
        "outputId": "d562c7f5-5847-4510-8f53-8f39faec9145"
      },
      "execution_count": 2,
      "outputs": [
        {
          "output_type": "stream",
          "name": "stdout",
          "text": [
            "Factorial of 1 is 1\n",
            "Factorial of 2 is 2\n",
            "Factorial of 3 is 6\n",
            "Factorial of 4 is 24\n",
            "Factorial of 5 is 120\n",
            "Factorial of 6 is 720\n",
            "Factorial of 7 is 5040\n",
            "Factorial of 8 is 40320\n",
            "Factorial of 9 is 362880\n",
            "Factorial of 10 is 3628800\n"
          ]
        }
      ]
    },
    {
      "cell_type": "markdown",
      "source": [
        "8.Create a Python program that uses multiprocessing.Pool to compute the square of numbers from 1 to 10 in\n",
        "parallel. Measure the time taken to perform this computation using a pool of different sizes (e.g., 2, 4, 8\n",
        "processes)."
      ],
      "metadata": {
        "id": "wal7SG8LTFOp"
      }
    },
    {
      "cell_type": "code",
      "source": [
        "from multiprocessing import Pool\n",
        "import time\n",
        "\n",
        "def square(n):\n",
        "    return n * n\n",
        "\n",
        "def measure_time(pool_size):\n",
        "    start_time = time.time()\n",
        "    with Pool(pool_size) as pool:\n",
        "        results = pool.map(square, range(1, 11))\n",
        "    duration = time.time() - start_time\n",
        "    return results, duration\n",
        "\n",
        "# Measure for different pool sizes\n",
        "for size in [2, 4, 8]:\n",
        "    squares, time_taken = measure_time(size)\n",
        "    print(f\"Pool Size: {size}, Results: {squares}, Time Taken: {time_taken:.4f} seconds\")\n"
      ],
      "metadata": {
        "colab": {
          "base_uri": "https://localhost:8080/"
        },
        "id": "5ZMKZ5tOTmNR",
        "outputId": "abbe3df7-d4ef-42ff-bf52-c21c6221e73e"
      },
      "execution_count": 3,
      "outputs": [
        {
          "output_type": "stream",
          "name": "stdout",
          "text": [
            "Pool Size: 2, Results: [1, 4, 9, 16, 25, 36, 49, 64, 81, 100], Time Taken: 0.0256 seconds\n",
            "Pool Size: 4, Results: [1, 4, 9, 16, 25, 36, 49, 64, 81, 100], Time Taken: 0.0420 seconds\n",
            "Pool Size: 8, Results: [1, 4, 9, 16, 25, 36, 49, 64, 81, 100], Time Taken: 0.0675 seconds\n"
          ]
        }
      ]
    },
    {
      "cell_type": "code",
      "source": [],
      "metadata": {
        "id": "72W96PT3Tmo1"
      },
      "execution_count": null,
      "outputs": []
    }
  ]
}