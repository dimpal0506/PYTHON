{
  "nbformat": 4,
  "nbformat_minor": 0,
  "metadata": {
    "colab": {
      "provenance": []
    },
    "kernelspec": {
      "name": "python3",
      "display_name": "Python 3"
    },
    "language_info": {
      "name": "python"
    }
  },
  "cells": [
    {
      "cell_type": "markdown",
      "source": [
        "1.What are the five key concepts of Object-Oriented Programming (OOP)?\n"
      ],
      "metadata": {
        "id": "lxYZAeVVOcdn"
      }
    },
    {
      "cell_type": "code",
      "source": [
        "'''Encapsulation: Bundling data and methods together while restricting direct access to some components.\n",
        "\n",
        "Inheritance: Allowing a class (child) to derive properties and methods from another class (parent).\n",
        "\n",
        "Polymorphism: Using a single interface to operate on different types of data or objects.\n",
        "\n",
        "Abstraction: Hiding complex implementation details and showing only essential features.\n",
        "\n",
        "Message Passing: Objects communicate by sending and receiving messages (method calls).'''"
      ],
      "metadata": {
        "id": "zM6F6at_Pyx-"
      },
      "execution_count": null,
      "outputs": []
    },
    {
      "cell_type": "markdown",
      "source": [
        "2.Write a Python class for a `Car` with attributes for `make`, `model`, and `year`. Include a method to display\n",
        "the car's information.\n"
      ],
      "metadata": {
        "id": "6yis363VO2pU"
      }
    },
    {
      "cell_type": "code",
      "source": [
        "class Car:\n",
        "    def __init__(self, make, model, year):\n",
        "        self.make = make\n",
        "        self.model = model\n",
        "        self.year = year\n",
        "\n",
        "    def display_info(self):\n",
        "        return f\"{self.year} {self.make} {self.model}\"\n",
        "\n",
        "# Example Usage:\n",
        "my_car = Car(\"Toyota\", \"Corolla\", 2020)\n",
        "print(my_car.display_info())  # Output: 2020 Toyota Corolla\n"
      ],
      "metadata": {
        "colab": {
          "base_uri": "https://localhost:8080/"
        },
        "id": "XzoYnvDCP7kf",
        "outputId": "3c412582-0e9e-4aca-e8d3-f45b9992f85d"
      },
      "execution_count": 1,
      "outputs": [
        {
          "output_type": "stream",
          "name": "stdout",
          "text": [
            "2020 Toyota Corolla\n"
          ]
        }
      ]
    },
    {
      "cell_type": "markdown",
      "source": [
        "3.Explain the difference between instance methods and class methods. Provide an example of each.\n"
      ],
      "metadata": {
        "id": "sppWS3sGO2sM"
      }
    },
    {
      "cell_type": "code",
      "source": [
        "'''Instance Methods: Operate on instances of the class. They need self as the first parameter.\n",
        "\n",
        "Class Methods: Operate on the class itself. They need cls as the first parameter and are marked using @classmethod.\n",
        "'''\n",
        "\n",
        "class Example:\n",
        "    def instance_method(self):\n",
        "        return \"This is an instance method\"\n",
        "\n",
        "    @classmethod\n",
        "    def class_method(cls):\n",
        "        return \"This is a class method\"\n"
      ],
      "metadata": {
        "id": "mdwC84J-P-cj"
      },
      "execution_count": 2,
      "outputs": []
    },
    {
      "cell_type": "markdown",
      "source": [
        "4.How does Python implement method overloading? Give an example.\n"
      ],
      "metadata": {
        "id": "FwzNYzI2O2vJ"
      }
    },
    {
      "cell_type": "code",
      "source": [
        "'''Python doesn’t support method overloading traditionally. You can achieve similar behavior using default arguments.\n",
        "'''\n",
        "\n",
        "class Example:\n",
        "    def greet(self, name=None):\n",
        "        if name:\n",
        "            return f\"Hello, {name}!\"\n",
        "        return \"Hello!\"\n",
        "\n"
      ],
      "metadata": {
        "id": "iA6_GDCCQHKN"
      },
      "execution_count": 3,
      "outputs": []
    },
    {
      "cell_type": "markdown",
      "source": [
        "5.What are the three types of access modifiers in Python? How are they denoted?\n"
      ],
      "metadata": {
        "id": "YDbyR3QYO2yc"
      }
    },
    {
      "cell_type": "code",
      "source": [
        "'''Public: Accessible anywhere. Example: self.variable.\n",
        "\n",
        "Protected: Accessible within the class and its subclasses. Example: self._variable.\n",
        "\n",
        "Private: Accessible only within the class. Example: self.__variable.'''"
      ],
      "metadata": {
        "id": "vgiKwLBHQOWa"
      },
      "execution_count": null,
      "outputs": []
    },
    {
      "cell_type": "markdown",
      "source": [
        "6.Describe the five types of inheritance in Python. Provide a simple example of multiple inheritance.\n"
      ],
      "metadata": {
        "id": "hWjYsrc5O21M"
      }
    },
    {
      "cell_type": "code",
      "source": [
        "'''Single Inheritance: One parent, one child.\n",
        "\n",
        "Multiple Inheritance: Multiple parents, one child.\n",
        "\n",
        "Multilevel Inheritance: A chain of inheritance.\n",
        "\n",
        "Hierarchical Inheritance: One parent, multiple children.\n",
        "\n",
        "Hybrid Inheritance: Combination of two or more types.'''\n",
        "#Multiple Inheritance Example:\n",
        "\n",
        "class Parent1:\n",
        "    def method1(self):\n",
        "        return \"Method from Parent1\"\n",
        "\n",
        "class Parent2:\n",
        "    def method2(self):\n",
        "        return \"Method from Parent2\"\n",
        "\n",
        "class Child(Parent1, Parent2):\n",
        "    pass\n",
        "\n",
        "obj = Child()\n",
        "print(obj.method1())  # Output: Method from Parent1\n",
        "print(obj.method2())  # Output: Method from Parent2\n"
      ],
      "metadata": {
        "colab": {
          "base_uri": "https://localhost:8080/"
        },
        "id": "ES7n9DwwQR7W",
        "outputId": "cec5dfa8-3567-48d0-fd5f-bbd9bf1180b1"
      },
      "execution_count": 4,
      "outputs": [
        {
          "output_type": "stream",
          "name": "stdout",
          "text": [
            "Method from Parent1\n",
            "Method from Parent2\n"
          ]
        }
      ]
    },
    {
      "cell_type": "markdown",
      "source": [
        "7.What is the Method Resolution Order (MRO) in Python? How can you retrieve it programmatically?\n"
      ],
      "metadata": {
        "id": "n2upZ3TqO235"
      }
    },
    {
      "cell_type": "code",
      "source": [
        "'''Python uses the C3 Linearization algorithm to determine MRO. Use the mro() method or help() function.\n",
        "\n",
        "Example:'''\n",
        "class A: pass\n",
        "class B(A): pass\n",
        "class C(A): pass\n",
        "class D(B, C): pass\n",
        "\n",
        "print(D.mro())\n"
      ],
      "metadata": {
        "colab": {
          "base_uri": "https://localhost:8080/"
        },
        "id": "mQVwXGC2QaZw",
        "outputId": "3697b7b1-27d6-4bcc-ab9f-61668e0beaaf"
      },
      "execution_count": 5,
      "outputs": [
        {
          "output_type": "stream",
          "name": "stdout",
          "text": [
            "[<class '__main__.D'>, <class '__main__.B'>, <class '__main__.C'>, <class '__main__.A'>, <class 'object'>]\n"
          ]
        }
      ]
    },
    {
      "cell_type": "markdown",
      "source": [
        "8.Create an abstract base class `Shape` with an abstract method `area()`. Then create two subclasses\n",
        "`Circle` and `Rectangle` that implement the `area()` method.\n"
      ],
      "metadata": {
        "id": "_TbYDe9oO26h"
      }
    },
    {
      "cell_type": "code",
      "source": [
        "from abc import ABC, abstractmethod\n",
        "\n",
        "class Shape(ABC):\n",
        "    @abstractmethod\n",
        "    def area(self):\n",
        "        pass\n",
        "\n",
        "class Circle(Shape):\n",
        "    def __init__(self, radius):\n",
        "        self.radius = radius\n",
        "\n",
        "    def area(self):\n",
        "        return 3.14 * self.radius**2\n",
        "\n",
        "class Rectangle(Shape):\n",
        "    def __init__(self, length, width):\n",
        "        self.length = length\n",
        "        self.width = width\n",
        "\n",
        "    def area(self):\n",
        "        return self.length * self.width\n"
      ],
      "metadata": {
        "id": "2Tal75PhQfXP"
      },
      "execution_count": 6,
      "outputs": []
    },
    {
      "cell_type": "markdown",
      "source": [
        "9.Demonstrate polymorphism by creating a function that can work with different shape objects to calculate\n",
        "and print their areas.\n"
      ],
      "metadata": {
        "id": "xRvMezEjO29H"
      }
    },
    {
      "cell_type": "code",
      "source": [
        "def print_area(shape):\n",
        "    print(f\"The area is: {shape.area()}\")\n",
        "\n",
        "circle = Circle(5)\n",
        "rectangle = Rectangle(4, 6)\n",
        "\n",
        "print_area(circle)      # Output: The area is: 78.5\n",
        "print_area(rectangle)   # Output: The area is: 24\n"
      ],
      "metadata": {
        "colab": {
          "base_uri": "https://localhost:8080/"
        },
        "id": "s_G5ao8dQiAX",
        "outputId": "559d3b7e-ac81-4fb1-9cf6-a9aabcec82c3"
      },
      "execution_count": 7,
      "outputs": [
        {
          "output_type": "stream",
          "name": "stdout",
          "text": [
            "The area is: 78.5\n",
            "The area is: 24\n"
          ]
        }
      ]
    },
    {
      "cell_type": "markdown",
      "source": [
        "10.Implement encapsulation in a `BankAccount` class with private attributes for `balance` and\n",
        "`account_number`. Include methods for deposit, withdrawal, and balance inquiry.\n"
      ],
      "metadata": {
        "id": "YFwFR5LjO3AO"
      }
    },
    {
      "cell_type": "code",
      "source": [
        "class BankAccount:\n",
        "    def __init__(self, account_number, balance=0):\n",
        "        self.__account_number = account_number\n",
        "        self.__balance = balance\n",
        "\n",
        "    def deposit(self, amount):\n",
        "        self.__balance += amount\n",
        "\n",
        "    def withdraw(self, amount):\n",
        "        if amount > self.__balance:\n",
        "            return \"Insufficient funds\"\n",
        "        self.__balance -= amount\n",
        "\n",
        "    def inquiry(self):\n",
        "        return f\"Balance: {self.__balance}\"\n",
        "\n",
        "# Example Usage:\n",
        "account = BankAccount(123456)\n",
        "account.deposit(500)\n",
        "print(account.inquiry())  # Output: Balance: 500\n"
      ],
      "metadata": {
        "colab": {
          "base_uri": "https://localhost:8080/"
        },
        "id": "w0v8UPhKQnGh",
        "outputId": "30149e89-de6f-421b-9c07-dd95297d80df"
      },
      "execution_count": 8,
      "outputs": [
        {
          "output_type": "stream",
          "name": "stdout",
          "text": [
            "Balance: 500\n"
          ]
        }
      ]
    },
    {
      "cell_type": "markdown",
      "source": [
        "11.Write a class that overrides the `__str__` and `__add__` magic methods. What will these methods allow\n",
        "you to do?\n"
      ],
      "metadata": {
        "id": "jNdyigU_O3C5"
      }
    },
    {
      "cell_type": "code",
      "source": [
        "class Number:\n",
        "    def __init__(self, value):\n",
        "        self.value = value\n",
        "\n",
        "    def __str__(self):\n",
        "        return f\"Number: {self.value}\"\n",
        "\n",
        "    def __add__(self, other):\n",
        "        return Number(self.value + other.value)\n",
        "\n",
        "# Example:\n",
        "num1 = Number(10)\n",
        "num2 = Number(20)\n",
        "print(num1 + num2)  # Output: Number: 30\n"
      ],
      "metadata": {
        "colab": {
          "base_uri": "https://localhost:8080/"
        },
        "id": "xhb4xknMQpTs",
        "outputId": "d2157fa2-cdf6-4fdd-9d7e-7ba83fdc1ebf"
      },
      "execution_count": 9,
      "outputs": [
        {
          "output_type": "stream",
          "name": "stdout",
          "text": [
            "Number: 30\n"
          ]
        }
      ]
    },
    {
      "cell_type": "markdown",
      "source": [
        "12.Create a decorator that measures and prints the execution time of a function.\n"
      ],
      "metadata": {
        "id": "x3gIIyyKO3Fa"
      }
    },
    {
      "cell_type": "code",
      "source": [
        "import time\n",
        "\n",
        "def execution_time(func):\n",
        "    def wrapper(*args, **kwargs):\n",
        "        start = time.time()\n",
        "        result = func(*args, **kwargs)\n",
        "        end = time.time()\n",
        "        print(f\"Execution time: {end - start} seconds\")\n",
        "        return result\n",
        "    return wrapper\n"
      ],
      "metadata": {
        "id": "dEBZROsyQrXY"
      },
      "execution_count": 10,
      "outputs": []
    },
    {
      "cell_type": "markdown",
      "source": [
        "13.Explain the concept of the Diamond Problem in multiple inheritance. How does Python resolve it?\n"
      ],
      "metadata": {
        "id": "cxGy-64sO3IW"
      }
    },
    {
      "cell_type": "code",
      "source": [
        "'''The Diamond Problem occurs when two classes have a common base class, creating ambiguity in inheritance. Python resolves this using MRO (C3 Linearization).'''"
      ],
      "metadata": {
        "id": "AHlsDTWIQt6K"
      },
      "execution_count": null,
      "outputs": []
    },
    {
      "cell_type": "markdown",
      "source": [
        "14.Write a class method that keeps track of the number of instances created from a class.\n"
      ],
      "metadata": {
        "id": "vZA2mvGxO3LE"
      }
    },
    {
      "cell_type": "code",
      "source": [
        "class Example:\n",
        "    count = 0\n",
        "\n",
        "    def __init__(self):\n",
        "        Example.count += 1\n",
        "\n",
        "    @classmethod\n",
        "    def instance_count(cls):\n",
        "        return cls.count\n"
      ],
      "metadata": {
        "id": "tqofSHOTQwPe"
      },
      "execution_count": 12,
      "outputs": []
    },
    {
      "cell_type": "markdown",
      "source": [
        "15.Implement a static method in a class that checks if a given year is a leap year."
      ],
      "metadata": {
        "id": "OFOIxIIDO3Of"
      }
    },
    {
      "cell_type": "code",
      "source": [
        "class YearChecker:\n",
        "    @staticmethod\n",
        "    def is_leap_year(year):\n",
        "        return year % 4 == 0 and (year % 100 != 0 or year % 400 == 0)\n"
      ],
      "metadata": {
        "id": "rUwTtzfgQzum"
      },
      "execution_count": 13,
      "outputs": []
    },
    {
      "cell_type": "code",
      "source": [],
      "metadata": {
        "id": "xDHcOjdvQ0KE"
      },
      "execution_count": null,
      "outputs": []
    }
  ]
}